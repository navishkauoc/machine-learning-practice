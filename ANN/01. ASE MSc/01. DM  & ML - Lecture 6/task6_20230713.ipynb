{
 "cells": [
  {
   "cell_type": "code",
   "execution_count": 33,
   "id": "2ef1adba-8d40-46d1-bc35-6e4f7d78d92c",
   "metadata": {},
   "outputs": [
    {
     "name": "stdout",
     "output_type": "stream",
     "text": [
      "Epoch 1/10\n",
      "\u001b[1m26402/26402\u001b[0m \u001b[32m━━━━━━━━━━━━━━━━━━━━\u001b[0m\u001b[37m\u001b[0m \u001b[1m22s\u001b[0m 799us/step - accuracy: 0.5356 - loss: 0.6907\n",
      "Epoch 2/10\n",
      "\u001b[1m26402/26402\u001b[0m \u001b[32m━━━━━━━━━━━━━━━━━━━━\u001b[0m\u001b[37m\u001b[0m \u001b[1m21s\u001b[0m 799us/step - accuracy: 0.5365 - loss: 0.6905\n",
      "Epoch 3/10\n",
      "\u001b[1m26402/26402\u001b[0m \u001b[32m━━━━━━━━━━━━━━━━━━━━\u001b[0m\u001b[37m\u001b[0m \u001b[1m22s\u001b[0m 817us/step - accuracy: 0.5363 - loss: 0.6905\n",
      "Epoch 4/10\n",
      "\u001b[1m26402/26402\u001b[0m \u001b[32m━━━━━━━━━━━━━━━━━━━━\u001b[0m\u001b[37m\u001b[0m \u001b[1m21s\u001b[0m 798us/step - accuracy: 0.5366 - loss: 0.6905\n",
      "Epoch 5/10\n",
      "\u001b[1m26402/26402\u001b[0m \u001b[32m━━━━━━━━━━━━━━━━━━━━\u001b[0m\u001b[37m\u001b[0m \u001b[1m25s\u001b[0m 932us/step - accuracy: 0.5348 - loss: 0.6908\n",
      "Epoch 6/10\n",
      "\u001b[1m26402/26402\u001b[0m \u001b[32m━━━━━━━━━━━━━━━━━━━━\u001b[0m\u001b[37m\u001b[0m \u001b[1m26s\u001b[0m 990us/step - accuracy: 0.5365 - loss: 0.6905\n",
      "Epoch 7/10\n",
      "\u001b[1m26402/26402\u001b[0m \u001b[32m━━━━━━━━━━━━━━━━━━━━\u001b[0m\u001b[37m\u001b[0m \u001b[1m24s\u001b[0m 910us/step - accuracy: 0.5357 - loss: 0.6906\n",
      "Epoch 8/10\n",
      "\u001b[1m26402/26402\u001b[0m \u001b[32m━━━━━━━━━━━━━━━━━━━━\u001b[0m\u001b[37m\u001b[0m \u001b[1m25s\u001b[0m 950us/step - accuracy: 0.5353 - loss: 0.6907\n",
      "Epoch 9/10\n",
      "\u001b[1m26402/26402\u001b[0m \u001b[32m━━━━━━━━━━━━━━━━━━━━\u001b[0m\u001b[37m\u001b[0m \u001b[1m26s\u001b[0m 977us/step - accuracy: 0.5370 - loss: 0.6904\n",
      "Epoch 10/10\n",
      "\u001b[1m26402/26402\u001b[0m \u001b[32m━━━━━━━━━━━━━━━━━━━━\u001b[0m\u001b[37m\u001b[0m \u001b[1m26s\u001b[0m 979us/step - accuracy: 0.5369 - loss: 0.6905\n",
      "\u001b[1m5281/5281\u001b[0m \u001b[32m━━━━━━━━━━━━━━━━━━━━\u001b[0m\u001b[37m\u001b[0m \u001b[1m4s\u001b[0m 663us/step - accuracy: 0.5365 - loss: 0.6905\n",
      "Test accuracy: 0.5353459119796753\n"
     ]
    }
   ],
   "source": [
    "import pandas as pd\n",
    "from sklearn.model_selection import train_test_split\n",
    "from tensorflow.keras.models import Sequential\n",
    "from tensorflow.keras.layers import Dense\n",
    "from sklearn.metrics import accuracy_score\n",
    "\n",
    "# Load normal data\n",
    "normal_data = pd.read_csv(\"normal.csv\", usecols=range(1, 14))\n",
    "\n",
    "# Load disease data\n",
    "disease_data = pd.read_csv(\"disease.csv\", usecols=range(1, 14))\n",
    "\n",
    "# Combine data\n",
    "combined_data = pd.concat([normal_data, disease_data], ignore_index=True)\n",
    "\n",
    "combined_data[\"class\"] = 0\n",
    "combined_data.loc[disease_data.index, \"class\"] = 1\n",
    "\n",
    "# Separate features and target\n",
    "features = combined_data.iloc[:, :-1]\n",
    "target = combined_data.iloc[:, -1]\n",
    "\n",
    "# Split data into training and testing sets\n",
    "X_train, X_test, y_train, y_test = train_test_split(features, target, test_size=0.2, random_state=42)\n",
    "\n",
    "# Build the ANN model\n",
    "model = Sequential()\n",
    "model.add(Dense(units=128, activation=\"relu\"))\n",
    "model.add(Dense(units=64, activation=\"relu\"))\n",
    "model.add(Dense(units=1, activation=\"sigmoid\"))\n",
    "\n",
    "model.compile(optimizer=\"adam\", loss=\"binary_crossentropy\", metrics=[\"accuracy\"])\n",
    "\n",
    "# Train the model\n",
    "model.fit(features, target, epochs=10, batch_size=32)\n",
    "\n",
    "# Evaluate the model\n",
    "loss, accuracy = model.evaluate(X_test, y_test)\n",
    "print(\"Test accuracy:\", accuracy)\n",
    "\n",
    "# Save the model (optional)\n",
    "model.save(\"my_model.keras\")"
   ]
  },
  {
   "cell_type": "code",
   "execution_count": null,
   "id": "0197676e-ca13-42f2-8a15-d038903fed1b",
   "metadata": {},
   "outputs": [],
   "source": []
  }
 ],
 "metadata": {
  "kernelspec": {
   "display_name": "task06kernel",
   "language": "python",
   "name": "task06kernel"
  },
  "language_info": {
   "codemirror_mode": {
    "name": "ipython",
    "version": 3
   },
   "file_extension": ".py",
   "mimetype": "text/x-python",
   "name": "python",
   "nbconvert_exporter": "python",
   "pygments_lexer": "ipython3",
   "version": "3.12.2"
  }
 },
 "nbformat": 4,
 "nbformat_minor": 5
}
